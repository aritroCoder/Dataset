{
 "cells": [
  {
   "cell_type": "code",
   "execution_count": 2,
   "metadata": {},
   "outputs": [
    {
     "name": "stdout",
     "output_type": "stream",
     "text": [
      "Note: you may need to restart the kernel to use updated packages.\n"
     ]
    }
   ],
   "source": [
    "%pip install --upgrade openai --quiet"
   ]
  },
  {
   "cell_type": "code",
   "execution_count": 24,
   "metadata": {},
   "outputs": [
    {
     "data": {
      "text/plain": [
       "True"
      ]
     },
     "execution_count": 24,
     "metadata": {},
     "output_type": "execute_result"
    }
   ],
   "source": [
    "from dotenv import load_dotenv\n",
    "import os\n",
    "load_dotenv() "
   ]
  },
  {
   "cell_type": "code",
   "execution_count": 25,
   "metadata": {},
   "outputs": [],
   "source": [
    "from openai import OpenAI\n",
    "\n",
    "MODEL=\"gpt-4o\"\n",
    "client = OpenAI(api_key=os.getenv(\"OPENAI_API_KEY\"))"
   ]
  },
  {
   "cell_type": "code",
   "execution_count": 26,
   "metadata": {},
   "outputs": [],
   "source": [
    "from IPython.display import Image, display\n",
    "import base64\n",
    "\n",
    "def encode_image(image_path):\n",
    "    with open(image_path, \"rb\") as image_file:\n",
    "        return base64.b64encode(image_file.read()).decode(\"utf-8\")"
   ]
  },
  {
   "cell_type": "code",
   "execution_count": 27,
   "metadata": {},
   "outputs": [],
   "source": [
    "def generate_caption(image_path, summary_length=\"small\"):\n",
    "    base64_image = encode_image(image_path)\n",
    "    response = client.chat.completions.create(\n",
    "        model=MODEL,\n",
    "        messages=[\n",
    "            {\"role\": \"system\", \"content\": \"You are a helpful assistant that responds in Markdown. Help me with my image caption generation!\"},\n",
    "            {\"role\": \"user\", \"content\": [\n",
    "                {\"type\": \"text\", \"text\": f\"Generate a {summary_length} caption for the image\"},\n",
    "                {\"type\": \"image_url\", \"image_url\": {\n",
    "                    \"url\": f\"data:image/png;base64,{base64_image}\"}\n",
    "                }\n",
    "            ]}\n",
    "        ],\n",
    "        temperature=0.0,\n",
    "    )\n",
    "    return response.choices[0].message.content"
   ]
  },
  {
   "cell_type": "code",
   "execution_count": 21,
   "metadata": {},
   "outputs": [
    {
     "name": "stdout",
     "output_type": "stream",
     "text": [
      "{'info': {'description': 'This is a NCERT Dataset containing the images from the book with their captions', 'version': '1.0', 'year': 2024, 'date_created': '2024-05-15'}, 'images': {'001': {'ncert': 'Bacteria', 'gpt_small': 'Microscopic view of chromosomes stained in pink against a dark background.', 'gpt_short': 'Microscopic view of bacteria stained in pink.', 'gpt_keywords': 'bacteria, microscopic, pink, black background, microorganisms, spiral shape, microbiology, pathogens, magnified, scientific image'}, '002': {'ncert': 'Bacteria', 'gpt_small': 'Microscopic view of rod-shaped bacteria.', 'gpt_short': 'Microscopic view of rod-shaped bacteria.', 'gpt_keywords': 'bacteria, microscopic, blue background, rod-shaped, microbiology, cells, magnified, microorganisms, science, laboratory'}, '003': {'ncert': 'Chlamydomonas Algae', 'gpt_small': 'Diagram of a plant cell showing various organelles.', 'gpt_short': 'Diagram of a plant cell showing its internal structures.', 'gpt_keywords': 'cell, biology, organelles, nucleus, chloroplast, vacuole, cytoplasm, cell membrane, eukaryotic, plant cell'}, '004': {'ncert': 'Spirogyra Algae', 'gpt_small': 'Microscopic view of a green algae filament.', 'gpt_short': 'Microscopic view of a green algae filament.', 'gpt_keywords': 'microscopic image, algae, filamentous structure, green cells, chloroplasts, spiral arrangement, biology, microorganisms, microscopy, single-celled organisms'}, '005': {'ncert': 'Amoeba Protozoa', 'gpt_small': 'Cartoon illustration of an amoeba.', 'gpt_short': '\"Illustration of an amoeba with visible organelles.\"', 'gpt_keywords': 'amoeba, microorganism, single-celled, organism, biology, illustration, cartoon, brown, irregular shape, nucleus, pseudopodia'}, '006': {'ncert': 'Paramecium Protozoa', 'gpt_small': 'Illustration of a Paramecium, a single-celled organism commonly found in freshwater environments.', 'gpt_short': '\"Illustration of a Paramecium, a single-celled organism.\"', 'gpt_keywords': 'paramecium, microorganism, cilia, unicellular, protozoa, nucleus, contractile vacuole, oral groove, illustration, biology, microscopic organism'}, '007': {'ncert': 'Bread mould Fungi', 'gpt_small': 'Three green, spotted mushrooms with a shared root system.', 'gpt_short': '\"Illustration of a green, three-branched plant with round, speckled tops.\"', 'gpt_keywords': 'green algae, three branches, illustration, aquatic plant, simple drawing, green color, black outline, biology, nature, underwater plant'}, '008': {'ncert': 'Penicillium Fungi', 'gpt_small': 'A simple illustration of a broccolini.', 'gpt_short': '\"Illustration of a green vegetable resembling broccolini.\"', 'gpt_keywords': 'vegetable, green, illustration, plant, botanical, drawing, nature, food, organic, healthy, flora, stem, leaves'}, '009': {'ncert': 'Aspergillus Fungi', 'gpt_small': 'Illustration of Aspergillus, a common type of fungus.', 'gpt_short': '\"Illustration of Aspergillus mold structure\"', 'gpt_keywords': 'fungus, mold, spores, conidiophore, Aspergillus, microscopic, biology, mycology, illustration, hyphae, conidia, reproduction, science, diagram'}, '010': {'ncert': 'Viruses', 'gpt_small': 'Illustration of a virus with a geometric structure and protruding spike proteins.', 'gpt_short': 'Adenovirus vector illustration.', 'gpt_keywords': 'virus, illustration, blue, geometric, structure, medical, science, biology, hexagonal, rods, spikes, 3D, diagram'}, '011': {'ncert': 'Viruses', 'gpt_small': 'Illustration of a bacteriophage virus.', 'gpt_short': '\"Illustration of a bacteriophage virus.\"', 'gpt_keywords': 'bacteriophage, virus, geometric, illustration, teal, hexagonal head, tail, legs, microbiology, science, biology, pathogen'}, '012': {'ncert': 'The Nitrogen fixing cyanobacteria (blue green algae)', 'gpt_small': 'Microscopic view of cyanobacteria, showcasing their chain-like structure.', 'gpt_short': 'Microscopic view of cyanobacteria filaments.', 'gpt_keywords': 'microscopic, algae, green, cells, chains, biology, microorganisms, chlorophyll, aquatic, structure, magnified, cyanobacteria, filamentous, photomicrograph, nature'}, '013': {'ncert': 'The Nitrogen fixing cyanobacteria (blue green algae)', 'gpt_small': 'Microscopic view of cyanobacteria filaments.', 'gpt_short': 'Microscopic view of cyanobacteria filaments.', 'gpt_keywords': 'cyanobacteria, microalgae, filamentous, microscopy, blue-green algae, aquatic, microorganisms, photosynthesis, prokaryotes, biology, science, spirulina'}, '014': {'ncert': 'Female Anopheles mosquito', 'gpt_small': 'Close-up of a mosquito.', 'gpt_short': 'Close-up of a mosquito.', 'gpt_keywords': 'mosquito, insect, close-up, wings, legs, antennae, vector, disease, bloodsucker, pest'}, '015': {'ncert': 'Roots of a leguminous plant with root nodules', 'gpt_small': '\"Illustration of a plant\\'s root system underground.\"', 'gpt_short': '\"Illustration of a plant\\'s root system underground.\"', 'gpt_keywords': 'roots, soil, underground, plant, nature, growth, branches, earth, illustration, biology, botany, root system, environment, ecosystem, underground structure'}, '016': {'ncert': 'Cross-section of a leaf', 'gpt_small': 'Cross-sectional diagram of a leaf showing its internal structure, including the midrib, veins, vascular bundle (phloem and xylem), chloroplasts, air spaces, guard cells, and the upper and lower epidermis.', 'gpt_short': '\"Detailed diagram of a leaf\\'s internal structure, highlighting the midrib, veins, vascular bundles, chloroplasts, and epidermal layers.\"', 'gpt_keywords': 'leaf anatomy, midrib, lamina, leaf blade, vein, phloem, xylem, vascular bundle, waxy cuticle, upper epidermis, chloroplast, air spaces, guard cell, lower epidermis, plant structure, botany, biology, cross-section, diagram'}, '017': {'ncert': 'Variegated leaf before starch test', 'gpt_small': 'A vibrant, variegated leaf with striking green and yellow patterns.', 'gpt_short': 'A vibrant, variegated leaf with striking green and yellow patterns.', 'gpt_keywords': 'leaf, green, yellow, variegated, elongated, nature, plant, foliage, botanical, pattern'}, '018': {'ncert': 'Variegated leaf after starch test', 'gpt_small': 'A colorful, patterned leaf with blue and yellow sections.', 'gpt_short': '\"Colorful leaf with blue and yellow patterns.\"', 'gpt_keywords': 'leaf, yellow, blue, pattern, nature, botanical, illustration, vein, elongated, colorful'}, '019': {'ncert': 'Open stomatal pore', 'gpt_small': 'Diagram of a stomatal complex showing guard cells, stomatal pore, and chloroplasts.', 'gpt_short': 'Diagram of a stomatal complex showing guard cells, stomatal pore, and chloroplasts.', 'gpt_keywords': 'guard cells, stomatal pore, chloroplast, plant anatomy, leaf structure, gas exchange, photosynthesis, plant biology, stomata, epidermal cells'}, '020': {'ncert': 'Closed stomatal pore', 'gpt_small': 'Stomata on a leaf surface, showing guard cells and pore.', 'gpt_short': 'Illustration of a plant stomata with guard cells.', 'gpt_keywords': 'stomata, guard cells, plant cell, chloroplasts, gas exchange, photosynthesis, plant biology, epidermal cells, microscopic structure, botany'}, '023': {'ncert': 'Nutrition in Amoeba', 'gpt_small': '\"Amoeba engulfing a food particle through phagocytosis: (a) Amoeba approaches food particle, (b) Pseudopodia extend around the particle, (c) Food particle enclosed in a food vacuole, (d) Digestion begins.\"', 'gpt_short': '\"Amoeba engulfing a food particle through phagocytosis.\"', 'gpt_keywords': 'Nucleus, food particle, pseudopodia, food vacuole, amoeba, ingestion, digestion, phagocytosis, cell, biology, diagram, process, stages, arrows, labels'}, '024': {'ncert': 'Human alimentary canal', 'gpt_small': 'Diagram of the human digestive system, showing key organs including the mouth, oesophagus, stomach, liver, gall bladder, pancreas, small intestine, large intestine, appendix, and anus.', 'gpt_short': '\"Diagram of the human digestive system, highlighting key organs and their functions.\"', 'gpt_keywords': 'digestive system, human anatomy, tongue, mouth, buccal cavity, oesophagus, diaphragm, gall bladder, bile duct, liver, pancreas, stomach, small intestine, large intestine, colon, appendix, anus'}, '025': {'ncert': 'Human respiratory system', 'gpt_small': 'Diagram of the human respiratory system, highlighting the nasal passage, mouth cavity, pharynx, larynx, trachea, bronchi, bronchioles, alveolar sacs, and alveoli.', 'gpt_short': '\"Diagram of the human respiratory system, highlighting the alveoli and bronchioles.\"', 'gpt_keywords': 'respiratory system, human anatomy, nasal passage, mouth cavity, pharynx, larynx, trachea, rings of cartilage, lung, bronchi, bronchioles, alveolar sac, alveoli, respiratory bronchioles, diaphragm, ribs'}, '026': {'ncert': 'Schematic sectional view of the human heart', 'gpt_small': 'Diagram of the human heart showing the major chambers and blood vessels.', 'gpt_short': 'Diagram of the human heart showing its chambers and major blood vessels.', 'gpt_keywords': 'heart, anatomy, diagram, aorta, vena cava, right atrium, left atrium, right ventricle, left ventricle, septum, pulmonary arteries, pulmonary veins, blood flow, cardiovascular system, human body'}, '027': {'ncert': 'Schematic representation of transport and exchange of oxygen and carbon dioxide', 'gpt_small': 'Diagram of the human circulatory system, showing the flow of blood through the heart, lungs, and body.', 'gpt_short': 'Diagram of the human circulatory system showing the flow of blood through the heart, lungs, and body.', 'gpt_keywords': 'heart, circulatory system, pulmonary artery, pulmonary vein, vena cava, aorta, lung capillaries, body capillaries, veins, arteries, blood flow, oxygenated blood, deoxygenated blood, cardiovascular system, human anatomy'}, '028': {'ncert': 'Movement of water during transpiration in a tree', 'gpt_small': '\"Illustration of a tree showing the process of water absorption through roots and release of water vapor through leaves.\"', 'gpt_short': '\"Illustration of a tree showing the process of water absorption through roots and release of water vapor through leaves.\"', 'gpt_keywords': 'tree, roots, leaves, water vapour, transpiration, soil, arrows, absorption, green, brown, illustration, diagram, plant biology, nature, ecosystem'}, '029': {'ncert': 'Excretory system in human beings', 'gpt_small': 'Diagram of the human urinary system, highlighting the left kidney, left renal artery, left renal vein, aorta, left ureter, vena cava, urinary bladder, and urethra.', 'gpt_short': 'Diagram of the human urinary system, highlighting the left kidney, renal artery, renal vein, aorta, ureter, vena cava, urinary bladder, and urethra.', 'gpt_keywords': 'left renal artery, left kidney, left renal vein, aorta, left ureter, vena cava, urinary bladder, urethra'}, '030': {'ncert': 'Structure of a nephron', 'gpt_small': \"Diagram of a nephron, showing the glomerulus, Bowman's capsule, tubular part, capillaries, and collecting duct.\", 'gpt_short': '\"Diagram of a nephron, illustrating the glomerulus, Bowman\\'s capsule, tubular part, capillaries, and collecting duct.\"', 'gpt_keywords': \"nephron, glomerulus, Bowman's capsule, tubular part of nephron, branch of renal artery, branch of renal vein, capillaries, collecting duct, kidney, renal system, anatomy, physiology\"}}}\n"
     ]
    }
   ],
   "source": [
    "import os\n",
    "import json\n",
    "\n",
    "# Define the directory where the images are stored\n",
    "image_dir = './images/'\n",
    "\n",
    "with open('data.json', 'r') as f:\n",
    "    data = json.load(f)\n",
    "\n",
    "for image_id, image_info in data['images'].items():\n",
    "    image_path = os.path.join(image_dir, f\"{image_id}.png\")\n",
    "    \n",
    "    image_caption_small = generate_caption(image_path, \"small\")\n",
    "    image_info['gpt_small'] = image_caption_small\n",
    "    \n",
    "    image_caption_short = generate_caption(image_path, \"short\")\n",
    "    image_info['gpt_short'] = image_caption_short\n",
    "    \n",
    "    image_caption_kw = generate_caption(image_path, \"comma-seperated keywords\")\n",
    "    image_info['gpt_keywords'] = image_caption_kw\n",
    "    \n",
    "print(data)"
   ]
  },
  {
   "cell_type": "code",
   "execution_count": 22,
   "metadata": {},
   "outputs": [],
   "source": [
    "with open('data.json', 'w') as f:\n",
    "    json.dump(data, f, indent=4)"
   ]
  },
  {
   "cell_type": "code",
   "execution_count": null,
   "metadata": {},
   "outputs": [],
   "source": []
  }
 ],
 "metadata": {
  "kernelspec": {
   "display_name": "myenv",
   "language": "python",
   "name": "python3"
  },
  "language_info": {
   "codemirror_mode": {
    "name": "ipython",
    "version": 3
   },
   "file_extension": ".py",
   "mimetype": "text/x-python",
   "name": "python",
   "nbconvert_exporter": "python",
   "pygments_lexer": "ipython3",
   "version": "3.11.0"
  }
 },
 "nbformat": 4,
 "nbformat_minor": 2
}
